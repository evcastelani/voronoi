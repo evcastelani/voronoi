{
 "cells": [
  {
   "cell_type": "markdown",
   "metadata": {},
   "source": [
    "# Trabalhando com tabelas e dados geográficos\n",
    "\n",
    "Para essa parte, você deverá baixar os dados no [Google Drive](https://drive.google.com/file/d/1BoaLcy0Ew_rSUVqroYwKvFMZDpWgAVUI/view?usp=sharing) e colocá-los na seguinte estrutura:\n",
    "\n",
    "    data -> colocar aqui dados das UBS e o IBGE de Maringá\n",
    "    data/municipios -> colocar aqui os dados dos municipios do PR\n",
    "    data/setores -> colocar aqui os dados dos setores de Maringá"
   ]
  },
  {
   "cell_type": "code",
   "execution_count": null,
   "metadata": {},
   "outputs": [],
   "source": [
    "using DataFrames, CSV, Query\n",
    "using GeoDataFrames, ArchGDAL\n",
    "using Plots"
   ]
  },
  {
   "cell_type": "code",
   "execution_count": null,
   "metadata": {},
   "outputs": [],
   "source": [
    "gr()"
   ]
  },
  {
   "cell_type": "code",
   "execution_count": null,
   "metadata": {},
   "outputs": [],
   "source": [
    "municipios_estado = GeoDataFrames.read(\"data/municipios/PR_Municipios_2022.shp\")"
   ]
  },
  {
   "cell_type": "code",
   "execution_count": null,
   "metadata": {},
   "outputs": [],
   "source": [
    "n_cidades = nrow(municipios_estado)"
   ]
  },
  {
   "cell_type": "code",
   "execution_count": null,
   "metadata": {},
   "outputs": [],
   "source": [
    "plot(municipios_estado.geometry, aspectratio=true, grid=false, alpha=0.5, color_palette=palette(:Paired, n_cidades))\n",
    "plot!(GeoDataFrames.boundary.(municipios_estado.geometry), color=:black, aspectratio=true, grid=false)"
   ]
  },
  {
   "cell_type": "markdown",
   "metadata": {},
   "source": [
    "### Qual a cidade com maior área?"
   ]
  },
  {
   "cell_type": "code",
   "execution_count": null,
   "metadata": {},
   "outputs": [],
   "source": [
    "municipios_estado |> \n",
    "    @filter(_.AREA_KM2 == maximum(municipios_estado.AREA_KM2)) |> \n",
    "    @select(:NM_MUN, :AREA_KM2) |> \n",
    "    DataFrame"
   ]
  },
  {
   "cell_type": "code",
   "execution_count": null,
   "metadata": {},
   "outputs": [],
   "source": [
    "plot(municipios_estado.geometry, column=\"AREA_KM2\", aspectratio=true, grid=false, color_palette=:Reds)\n",
    "#plot!(plt, GeoDataFrames.boundary.(municipios_estado.geometry), color=:white)\n",
    "#plt"
   ]
  },
  {
   "cell_type": "code",
   "execution_count": null,
   "metadata": {},
   "outputs": [],
   "source": [
    "maringa = municipios_estado |> @filter(_.NM_MUN == \"Maringá\") |> @select(-:SIGLA_UF, -:AREA_KM2) |> DataFrame"
   ]
  },
  {
   "cell_type": "code",
   "execution_count": null,
   "metadata": {},
   "outputs": [],
   "source": [
    "cod_maringa = 4115200"
   ]
  },
  {
   "cell_type": "code",
   "execution_count": null,
   "metadata": {},
   "outputs": [],
   "source": [
    "plot(GeoDataFrames.boundary.(maringa.geometry), color=:black, aspectratio=true, grid=false)"
   ]
  },
  {
   "cell_type": "markdown",
   "metadata": {},
   "source": [
    "### Que outra pergunta podemos fazer?"
   ]
  },
  {
   "cell_type": "markdown",
   "metadata": {},
   "source": [
    "## Utilizando as malhas de setores censitários\n",
    "\n",
    "Agora iremos utilizar uma divisão feita pelo Censo para separar áreas dentro de municípios. Esses dados podem ser obtidos [aqui](https://www.ibge.gov.br/geociencias/organizacao-do-territorio/malhas-territoriais/26565-malhas-de-setores-censitarios-divisoes-intramunicipais.html).\n",
    "\n",
    "Para esta análise, utilizaremos os dados do tipo _Shape File_ apenas do estado do Paraná."
   ]
  },
  {
   "cell_type": "code",
   "execution_count": null,
   "metadata": {},
   "outputs": [],
   "source": [
    "setores = GeoDataFrames.read(\"data/setores/PR_Malha_Preliminar_2022.shp\");\n",
    "first(setores, 10)"
   ]
  },
  {
   "cell_type": "code",
   "execution_count": null,
   "metadata": {},
   "outputs": [],
   "source": [
    "println(names(setores))"
   ]
  },
  {
   "cell_type": "markdown",
   "metadata": {},
   "source": [
    "Ao filtar pelo código do município de Maringá, observamos que nada vem. Isso mostra que precisamos saber o **tipo** de dados que é lido. Neste caso, o código, ao invés de ser lido como um número é lido como uma *String* (texto), então utilizamos o comando `string` para converter o número em texto e filtrar."
   ]
  },
  {
   "cell_type": "code",
   "execution_count": null,
   "metadata": {},
   "outputs": [],
   "source": [
    "setores_maringa = setores |> @filter(_.CD_MUN == cod_maringa) |> DataFrame"
   ]
  },
  {
   "cell_type": "code",
   "execution_count": null,
   "metadata": {},
   "outputs": [],
   "source": [
    "setores_maringa = setores |> @filter(_.CD_MUN == string(cod_maringa)) |> @select(:AREA_KM2, :NM_MUN, :CD_SETOR, :geometry) |> DataFrame;\n",
    "first(setores_maringa, 5)"
   ]
  },
  {
   "cell_type": "code",
   "execution_count": null,
   "metadata": {},
   "outputs": [],
   "source": [
    "# plot(GeoDataFrames.boundary.(maringa.geometry), color=:black, aspectratio=true, grid=false)\n",
    "plot(GeoDataFrames.boundary.(setores_maringa.geometry), color=:black, aspectratio=true, grid=false)\n"
   ]
  },
  {
   "cell_type": "markdown",
   "metadata": {},
   "source": [
    "## Unidades Básicas de Saúde\n",
    "\n",
    "Agora utilizaremos os dados obtidos em [Dados.gov.br](https://dados.gov.br/) sobre as posições da Unidades Básicas de Saúde de todo o Brasil, filtrando-as pelo código de Maringá e desenhando-as no mapa.\n",
    "\n",
    "Para essa tarefa, teremos que:\n",
    "\n",
    "  1. Baixar os dados\n",
    "  1. Carregar as informações\n",
    "  1. Identificar as colunas desejadas e filtrar pela cidade de Maringá\n",
    "  1. Converter as latitudes e longitudes em dados de mapa\n",
    "  1. Desenhar"
   ]
  },
  {
   "cell_type": "code",
   "execution_count": null,
   "metadata": {},
   "outputs": [],
   "source": [
    "ubs_brasil = CSV.read(\"data/ubs.csv.gz\", DataFrame)"
   ]
  },
  {
   "cell_type": "code",
   "execution_count": null,
   "metadata": {},
   "outputs": [],
   "source": [
    "names(ubs_brasil)"
   ]
  },
  {
   "cell_type": "markdown",
   "metadata": {},
   "source": [
    "Temos 2 problemas com esses dados:\n",
    "\n",
    "  1. Como encontrar Maringá?\n",
    "  1. Como extrair a latitude e longitude?"
   ]
  },
  {
   "cell_type": "code",
   "execution_count": null,
   "metadata": {},
   "outputs": [],
   "source": [
    "ubs_maringa = ubs_brasil |> @filter(_.IBGE == cod_maringa / 10) |> DataFrame"
   ]
  },
  {
   "cell_type": "code",
   "execution_count": null,
   "metadata": {},
   "outputs": [],
   "source": [
    "ubs_maringa[!, \"geometry\"] = ArchGDAL.createpoint.(parse.(Float64, replace.(convert.(String, ubs_maringa.LONGITUDE), \",\" => \".\")), parse.(Float64, replace.(convert.(String, ubs_maringa.LATITUDE), \",\" => \".\")))"
   ]
  },
  {
   "cell_type": "code",
   "execution_count": null,
   "metadata": {},
   "outputs": [],
   "source": [
    "plot(GeoDataFrames.boundary.(setores_maringa.geometry), color=:red, aspectratio=true, grid=false)\n",
    "plot!(ubs_maringa.geometry, marker=:circle, color=:green, markersize=3)\n",
    "#xaxis!((-52.0, -51.9))\n",
    "#yaxis!((-23.50, -23.35))"
   ]
  },
  {
   "cell_type": "markdown",
   "metadata": {},
   "source": [
    "## Os dados do IBGE\n",
    "\n",
    "Esses dados vieram do Censo 2022 e, pela primeira vez, o IBGE colocou informações de georreferenciamento, removendo dados sensíveis dos entrevistados. Aqui, só iremos usar para contar as pessoas e desenhar."
   ]
  },
  {
   "cell_type": "code",
   "execution_count": null,
   "metadata": {},
   "outputs": [],
   "source": [
    "ibge_maringa = CSV.read(\"data/IBGE_maringa.csv.gz\", DataFrame);\n",
    "first(ibge_maringa, 5)"
   ]
  },
  {
   "cell_type": "code",
   "execution_count": null,
   "metadata": {},
   "outputs": [],
   "source": [
    "size(ibge_maringa)"
   ]
  },
  {
   "cell_type": "code",
   "execution_count": null,
   "metadata": {},
   "outputs": [],
   "source": [
    "ibge_maringa[!, \"geometry\"] = ArchGDAL.createpoint.(ibge_maringa.LONGITUDE, ibge_maringa.LATITUDE)"
   ]
  },
  {
   "cell_type": "code",
   "execution_count": null,
   "metadata": {},
   "outputs": [],
   "source": [
    "populacao_setorial = ibge_maringa |> @groupby(_.COD_SETOR) |> @map({CD_SETOR=convert(String, key(_)), populacao=length(_)}) |> DataFrame"
   ]
  },
  {
   "cell_type": "code",
   "execution_count": null,
   "metadata": {},
   "outputs": [],
   "source": [
    "densidade = setores_maringa |> @join(populacao_setorial, _.CD_SETOR, _.CD_SETOR, {_.CD_SETOR, _.geometry, _.AREA_KM2, __.populacao}) |> DataFrame\n",
    "densidade[!, \"densidade\"] = densidade.populacao ./ densidade.AREA_KM2"
   ]
  },
  {
   "cell_type": "code",
   "execution_count": null,
   "metadata": {},
   "outputs": [],
   "source": [
    "plot(densidade.geometry, column=\"densidade\", color_palette=:Reds, aspectratio=true, grid=false)\n",
    "xaxis!((-52.0, -51.9))\n",
    "yaxis!((-23.50, -23.35))"
   ]
  },
  {
   "cell_type": "markdown",
   "metadata": {},
   "source": [
    "## Convertendo coordenadas\n",
    "\n",
    "Geralmente, as coordenadas são dadas em *ângulos*, mas calcular a distância entre dois pontos dados por ângulos não é recomendada, pois é necessário utilizar um modelo elipsoidal da Terra, uma distância comumente chamada de distância geodésica. Para resolver isso, nós projetamos o nosso mapa usando alguns dos muitos esquemas de representação do nosso mundo em coordenadas, chamados de ESPG.\n",
    "\n",
    "No nosso caso, nossos dados são dados no modelos utilizado pelo IBGE 4674 e utilizaremos um sistema projetivo dado pelo ESPG 5880, adequado para a América Latina (utilizado pela Petrobrás, inclusive). Para mais informações sobre o ESPG, acesse o [site deles](https://epsg.io/)."
   ]
  },
  {
   "cell_type": "code",
   "execution_count": null,
   "metadata": {},
   "outputs": [],
   "source": [
    "using GeoFormatTypes"
   ]
  },
  {
   "cell_type": "code",
   "execution_count": null,
   "metadata": {},
   "outputs": [],
   "source": [
    "c_origem = GeoFormatTypes.EPSG(4674);\n",
    "c_destino = GeoFormatTypes.EPSG(5880);"
   ]
  },
  {
   "cell_type": "code",
   "execution_count": null,
   "metadata": {},
   "outputs": [],
   "source": [
    "ubs = ubs_maringa |> @select(:CNES, :NOME, :geometry) |> DataFrame;"
   ]
  },
  {
   "cell_type": "code",
   "execution_count": null,
   "metadata": {},
   "outputs": [],
   "source": [
    "reproject(ubs[:, \"geometry\"], c_origem, c_destino, order=:trad)\n",
    "reproject(maringa.geometry, c_origem, c_destino, order=:trad)"
   ]
  },
  {
   "cell_type": "code",
   "execution_count": null,
   "metadata": {},
   "outputs": [],
   "source": [
    "plot(GeoDataFrames.boundary.(maringa.geometry), color=:black, aspectratio=true, grid=false)\n",
    "plot!(ubs_maringa.geometry, marker=:circle, color=:green, markersize=3)"
   ]
  },
  {
   "cell_type": "markdown",
   "metadata": {},
   "source": [
    "Precisamos voltar aos valores originais, por questões de funcionamento interno desse pacote."
   ]
  },
  {
   "cell_type": "code",
   "execution_count": null,
   "metadata": {},
   "outputs": [],
   "source": [
    "reproject(ubs[:, \"geometry\"], c_destino, c_origem, order=:trad)\n",
    "reproject(maringa.geometry, c_destino, c_origem, order=:trad)"
   ]
  }
 ],
 "metadata": {
  "kernelspec": {
   "display_name": "Julia 1.10.4",
   "language": "julia",
   "name": "julia-1.10"
  },
  "language_info": {
   "file_extension": ".jl",
   "mimetype": "application/julia",
   "name": "julia",
   "version": "1.10.4"
  }
 },
 "nbformat": 4,
 "nbformat_minor": 2
}
