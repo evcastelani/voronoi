{
 "cells": [
  {
   "cell_type": "code",
   "execution_count": 1,
   "metadata": {},
   "outputs": [],
   "source": [
    "using DataFrames, CSV, Query\n",
    "using GeoDataFrames, ArchGDAL\n",
    "using Plots"
   ]
  },
  {
   "cell_type": "code",
   "execution_count": null,
   "metadata": {},
   "outputs": [],
   "source": [
    "plotly()"
   ]
  },
  {
   "cell_type": "code",
   "execution_count": null,
   "metadata": {},
   "outputs": [],
   "source": [
    "struct Point2D\n",
    "\tx::Float64\n",
    "\ty::Float64 \n",
    "end\n",
    "\n",
    "function draw_colored_points(x::Vector{Float64},y::Vector{Float64},labels::Array{Int64,2},plt::Plots.Plot)\n",
    "\tm = length(y)\n",
    "\tn = length(x)\n",
    "\tA = zeros(Int, m,n)\n",
    "\tfor i=1:m \n",
    "\t\tfor j=1:n \n",
    "\t\t\tA[i,j] = labels[i,j]\n",
    "\t\tend\n",
    "\tend\n",
    "\treturn heatmap!(plt,x,y,A, c=:tab20c, colorbar=false)\n",
    "end\n",
    "\n",
    "function draw_points(v::Vector{Point2D},plt::Plots.Plot)\n",
    "    x = [v[i].x for i=1:length(v)]\n",
    "    y = [v[i].y for i=1:length(v)]\n",
    "    scatter!(plt,x,y,legend=:false)\n",
    "end\n",
    "\n",
    "function voronoi(P::Vector{Point2D},metric=(A::Point2D,B::Point2D)->sqrt((B.x-A.x)^2+(B.y-A.y)^2);limx=[0,100],limy=[0,100],density=1000, mapf=nothing)\n",
    "\tpx = [limx[1]:(limx[2]-limx[1])/density:limx[2];]\n",
    "\tpy = [limy[1]:(limy[2]-limy[1])/density:limy[2];]\n",
    "\tnpx = length(px)\n",
    "\tnpy = length(py)\n",
    "\tn = length(P)\n",
    "\tpoints = Vector{Point2D}(undef, npx * npy)\n",
    "\tlabels = zeros(Int64, npy, npx)\n",
    "\t\n",
    "\tfor i=1:npx \n",
    "\t\tfor j=1:npy \n",
    "\t\t\tcurr_p = Point2D(px[i],py[j])\n",
    "\n",
    "\t\t\t(mapf != nothing) && (!mapf(curr_p)) && continue\n",
    "\n",
    "\t\t\tm = map(p -> metric(p, curr_p), P)\n",
    "\t\t\tminval, imin = findmin(m)\n",
    "\n",
    "\t\t\tpoints[(j - 1) * npx + i] = curr_p\n",
    "\t\t\tlabels[j, i] = imin\n",
    "\t\t\t\n",
    "\t\tend\n",
    "\t\t\n",
    "\tend\n",
    "\tplt = plot()\n",
    "\tprintln(\"Drawing ... \")\n",
    "\tdraw_colored_points(px, py, labels, plt)\n",
    "\tdraw_points(P, plt)\n",
    "\treturn plt\n",
    "end"
   ]
  },
  {
   "cell_type": "code",
   "execution_count": null,
   "metadata": {},
   "outputs": [],
   "source": [
    "cod_maringa = 4115200"
   ]
  },
  {
   "cell_type": "code",
   "execution_count": null,
   "metadata": {},
   "outputs": [],
   "source": [
    "maringa = GeoDataFrames.read(\"data/municipios/PR_Municipios_2022.shp\") |> @filter(_.CD_MUN == string(cod_maringa)) |> DataFrame"
   ]
  },
  {
   "cell_type": "code",
   "execution_count": null,
   "metadata": {},
   "outputs": [],
   "source": [
    "ubs_brasil = CSV.read(\"data/ubs.csv.gz\", DataFrame);"
   ]
  },
  {
   "cell_type": "code",
   "execution_count": null,
   "metadata": {},
   "outputs": [],
   "source": [
    "ubs_maringa = ubs_brasil |> @filter(_.IBGE == cod_maringa / 10) |> @select(:CNES, :NOME, :geometry, :LONGITUDE, :LATITUDE) |> DataFrame"
   ]
  },
  {
   "cell_type": "code",
   "execution_count": null,
   "metadata": {},
   "outputs": [],
   "source": [
    "ubs_maringa[!, \"geometry\"] = ArchGDAL.createpoint.(parse.(Float64, replace.(convert.(String, ubs_maringa.LONGITUDE), \",\" => \".\")), parse.(Float64, replace.(convert.(String, ubs_maringa.LATITUDE), \",\" => \".\")))"
   ]
  },
  {
   "cell_type": "code",
   "execution_count": null,
   "metadata": {},
   "outputs": [],
   "source": [
    "using GeoFormatTypes"
   ]
  },
  {
   "cell_type": "code",
   "execution_count": null,
   "metadata": {},
   "outputs": [],
   "source": [
    "c_origem = GeoFormatTypes.EPSG(4674);\n",
    "c_destino = GeoFormatTypes.EPSG(5880);"
   ]
  },
  {
   "cell_type": "code",
   "execution_count": null,
   "metadata": {},
   "outputs": [],
   "source": [
    "reproject(ubs_maringa[:, \"geometry\"], c_origem, c_destino, order=:trad);\n",
    "reproject(maringa[:, \"geometry\"], c_origem, c_destino, order=:trad);"
   ]
  },
  {
   "cell_type": "code",
   "execution_count": null,
   "metadata": {},
   "outputs": [],
   "source": [
    "plot(GeoDataFrames.boundary.(maringa.geometry), color=:black, aspectratio=true, grid=false)\n",
    "plot!(ubs_maringa.geometry, marker=:circle, color=:green, markersize=3)"
   ]
  },
  {
   "cell_type": "code",
   "execution_count": null,
   "metadata": {},
   "outputs": [],
   "source": [
    "P = [Point2D(ArchGDAL.getx(p, 0), ArchGDAL.gety(p, 0)) for p in ubs_maringa.geometry]"
   ]
  },
  {
   "cell_type": "code",
   "execution_count": null,
   "metadata": {},
   "outputs": [],
   "source": [
    "p = ArchGDAL.envelope(maringa.geometry[1])"
   ]
  },
  {
   "cell_type": "code",
   "execution_count": null,
   "metadata": {},
   "outputs": [],
   "source": [
    "voronoi(P; limx=[5.1940058483459605e6, 5.221342165950402e6], limy=[7.392234804831119e6, 7.425889009771498e6], density=500)\n",
    "plot!(GeoDataFrames.boundary.(maringa.geometry), color=:black, aspectratio=true, grid=false)\n",
    "xaxis!(false)\n",
    "yaxis!(false)"
   ]
  },
  {
   "cell_type": "code",
   "execution_count": null,
   "metadata": {},
   "outputs": [],
   "source": [
    "esta_no_mapa = let \n",
    "\n",
    "    pg = ArchGDAL.preparegeom(maringa.geometry[1])\n",
    "\n",
    "    (p::Point2D) -> ArchGDAL.contains(pg, ArchGDAL.createpoint((p.x, p.y)))\n",
    "\n",
    "end"
   ]
  },
  {
   "cell_type": "code",
   "execution_count": null,
   "metadata": {},
   "outputs": [],
   "source": [
    "voronoi(P; limx=[5.1940058483459605e6, 5.221342165950402e6], limy=[7.392234804831119e6, 7.425889009771498e6], density=500, mapf=esta_no_mapa)\n",
    "plot!(GeoDataFrames.boundary.(maringa.geometry), color=:black, aspectratio=true, grid=false)\n",
    "xaxis!(false)\n",
    "yaxis!(false)"
   ]
  },
  {
   "cell_type": "code",
   "execution_count": null,
   "metadata": {},
   "outputs": [],
   "source": [
    "reproject(ubs_maringa[:, \"geometry\"], c_destino, c_origem, order=:trad);"
   ]
  },
  {
   "cell_type": "markdown",
   "metadata": {},
   "source": [
    "# O problema\n",
    "\n",
    "Primeiramente, adaptamos a nossa função de Voronoi para fazer duas tarefas: estimar a área de cada região poligonal e estimar a quantidade de maringaenses que mora em cada região poligonal. Para o primeiro, assumindo uma distribuição uniforme dos pontos, calculamos a relação entre os pontos que estão dentro de uma região `i` e a quantidade total de pontos. Para a segunda, simplesmente verificamos as distâncias entre os dados do IBGE e cada UBS."
   ]
  },
  {
   "cell_type": "code",
   "execution_count": null,
   "metadata": {},
   "outputs": [],
   "source": [
    "function voronoi_densidade(P::Vector{Point2D}, pibge::Vector{Point2D}, metric=(A::Point2D,B::Point2D)->sqrt((B.x-A.x)^2+(B.y-A.y)^2);limx=[0,100],limy=[0,100],density=1000, mapf=nothing)\n",
    "\tpx = [limx[1]:(limx[2]-limx[1])/density:limx[2];]\n",
    "\tpy = [limy[1]:(limy[2]-limy[1])/density:limy[2];]\n",
    "\tnpx = length(px)\n",
    "\tnpy = length(py)\n",
    "\tn = length(P)\n",
    "\n",
    "\tarea_total = (limx[2]-limx[1])*(limx[2]-limx[1])\n",
    "\tpts_total = npx*npy \n",
    "\n",
    "    count = zeros(Int, n)\n",
    "\n",
    "\tfor i=1:npx \n",
    "\t\tfor j=1:npy \n",
    "\t\t\tcurr_p = Point2D(px[i],py[j])\n",
    "\n",
    "\t\t\t(mapf != nothing) && (!mapf(curr_p)) && continue\n",
    "\n",
    "\t\t\tm = map(p -> metric(p, curr_p), P)\n",
    "\t\t\tminval, imin = findmin(m)\n",
    "\n",
    "            count[imin] += 1\n",
    "\t\t\t\n",
    "\t\tend\n",
    "\t\t\n",
    "\tend\n",
    "\n",
    "    # Estimativa da area usando pontos igualmente espacados\n",
    "    area = [(count[i] / pts_total) * area_total for i in 1:n]\n",
    "\n",
    "    # Quantidade de pessoas do IBGE que estao no poligono i\n",
    "    pop = zeros(Int, n)\n",
    "\n",
    "    for p in pibge\n",
    "\n",
    "        m = map(x -> metric(x, p), P)\n",
    "        minval, imin = findmin(m)\n",
    "\n",
    "        pop[imin] += 1\n",
    "\n",
    "    end\n",
    "\n",
    "    # Densidade em habs /metro quadrado\n",
    "    return pop ./ area\n",
    "end"
   ]
  }
 ],
 "metadata": {
  "kernelspec": {
   "display_name": "Julia 1.10.4",
   "language": "julia",
   "name": "julia-1.10"
  },
  "language_info": {
   "file_extension": ".jl",
   "mimetype": "application/julia",
   "name": "julia",
   "version": "1.10.4"
  }
 },
 "nbformat": 4,
 "nbformat_minor": 2
}
