{
 "cells": [
  {
   "cell_type": "markdown",
   "metadata": {},
   "source": [
    "# Diagrama de Voronoi\n",
    "\n",
    "O conceito de diagramas de Voronoi remonta a tempos antigos, mas foi formalizado pelo matemático russo Georgy Voronoi no início do século 20. Voronoi, pioneiro na teoria dos números e na geometria das formas, publicou trabalhos sobre partições de espaços que hoje conhecemos como diagramas de Voronoi. Antes dele, Johann Dirichlet havia estudado formas similares em 1850, conhecidas como tesselações de Dirichlet. Por isso, os diagramas de Voronoi às vezes são chamados de tesselações de Voronoi-Dirichlet.\n",
    "\n",
    "Um diagrama de Voronoi é uma partição do espaço em regiões baseadas em um conjunto de pontos geradores. Cada ponto gerador tem uma região correspondente, que consiste em todos os pontos mais próximos a ele do que a qualquer outro gerador. As bordas dessas regiões são equidistantes aos pontos geradores vizinhos.\n",
    "\n",
    "![Diagrama de Voronoi](voronoi-circles.gif)\n",
    "\n",
    "### Propriedades dos Diagramas de Voronoi\n",
    "\n",
    "1. **Unicidade**: Dado um conjunto de pontos geradores, a tesselação de Voronoi é única.\n",
    "2. **Convexidade**: Cada célula de Voronoi é convexa.\n",
    "3. **Generalização**: Podem ser aplicados a espaços de dimensões superiores.\n",
    "\n",
    "### Aplicações dos Diagramas de Voronoi\n",
    "\n",
    "1. **Computação Gráfica**: Utilizados em algoritmos de renderização e simulação de fenômenos naturais.\n",
    "2. **Divisões Políticas e Regionais**: Criam fronteiras políticas e regionais que minimizam a distância média dos habitantes a uma capital ou centro administrativo.\n",
    "3. **Ecologia**: Modelam o território de diferentes espécies animais ou plantas.\n",
    "4. **Modelagem de Mercados**: Analisam a divisão de mercado entre competidores, onde cada competidor tem uma \"região de Voronoi\" correspondente aos consumidores mais próximos.\n",
    "5. **Localização de Serviços**: Utilizados na localização de serviços como postos de saúde, escolas e supermercados. Por exemplo, no planejamento urbano, um diagrama de Voronoi pode ajudar a determinar a melhor localização para Unidades Básicas de Saúde (UBS), garantindo que cada região urbana tenha acesso equitativo aos serviços de saúde.\n",
    "\n",
    "Nosso objetivo será aplicar a construção do diagrama de Voronoi para responder perguntas relacionadas às UBS do município de Maringá, utilizando dados geoespaciais disponíveis e o diagrama de Voronoi. Por exemplo, considere a seguinte pergunta:\n",
    "\n",
    "**Como determinar qual UBS de Maringá tem, em teoria, maior demanda de pacientes?**\n",
    "\n",
    "Pretendemos responder este tipo de pergunta. Contudo, antes, veremos a construção do diagrama de Voronoi de duas formas:\n",
    "\n",
    "1. **Coloração da Tesselação**: Delimita a área de atuação do diagrama.\n",
    "2. **Triangulação de Delaunay**: Permite encontrar a configuração completa do diagrama."
   ]
  },
  {
   "cell_type": "markdown",
   "metadata": {},
   "source": []
  },
  {
   "cell_type": "markdown",
   "metadata": {},
   "source": [
    "## Triangulação de Delaunay\n",
    "\n",
    "A triangulação de Delaunay é um conceito fundamental na geometria computacional, com aplicações que abrangem desde a ciência dos materiais até a visualização de dados. Nomeada em homenagem ao matemático russo Boris Delaunay, que a descreveu em 1934, a triangulação de Delaunay é uma forma de conectar um conjunto de pontos de modo a formar triângulos que atendem a uma condição específica de maximização do menor ângulo interno.\n",
    "\n",
    "### Definição e Propriedades\n",
    "\n",
    "A triangulação de Delaunay para um conjunto de pontos no plano é tal que nenhum ponto está dentro do círculo circunscrito de qualquer triângulo da triangulação. Esta característica leva a várias propriedades importantes:\n",
    "\n",
    "1. **Maximização dos ângulos mínimos**: A triangulação de Delaunay tende a evitar triângulos \"achatados\", maximizando o menor ângulo interno de todos os triângulos.\n",
    "2. **Unicidade**: Para um conjunto de pontos em posição geral (nenhum quatro pontos co-circulares), a triangulação de Delaunay é única.\n",
    "3. **Convexidade**: A união de todos os triângulos da triangulação de Delaunay forma o fecho convexo do conjunto de pontos.\n",
    "4. **Proximidade**: Se dois pontos são vizinhos em uma triangulação de Delaunay, eles estão mais próximos um do outro do que qualquer outro ponto não vizinho.\n",
    "\n",
    "### Construção\n",
    "\n",
    "Existem vários algoritmos para construir a triangulação de Delaunay, incluindo:\n",
    "\n",
    "1. **Incremental**: Adiciona pontos um a um, ajustando a triangulação para manter a propriedade de Delaunay.\n",
    "2. **Divisão e Conquista**: Divide o conjunto de pontos em subconjuntos menores, triangula cada subconjunto e depois combina as triangulações.\n",
    "3. **Varredura em Plano**: Varre o plano, adicionando e conectando pontos de forma ordenada.\n",
    "4. **Flip de Arestas**: Começa com uma triangulação qualquer e ajusta as arestas iterativamente para satisfazer a propriedade de Delaunay.\n",
    "\n",
    "### Aplicações\n",
    "\n",
    "1. **Interpolação e Aproximação**: Na interpolação de superfícies e funções, a triangulação de Delaunay é usada para criar redes de triângulos que facilitam a interpolação linear.\n",
    "2. **Modelagem de Terrenos**: Em sistemas de informações geográficas (SIG), a triangulação de Delaunay ajuda a modelar superfícies topográficas.\n",
    "3. **Computação Gráfica**: Utilizada para gerar malhas de polígonos que modelam superfícies 3D.\n",
    "4. **Análise de Dados**: Na visualização de dados e na análise espacial, para criar diagramas de Voronoi, que são a dualidade da triangulação de Delaunay.\n",
    "5. **Simulação de Fluídos**: Em dinâmica dos fluídos, a triangulação de Delaunay é usada para discretizar domínios em simulações numéricas.\n",
    "\n",
    "### Relação com o Diagrama de Voronoi\n",
    "\n",
    "A triangulação de Delaunay e o diagrama de Voronoi são estruturas geométricas dualmente relacionadas. Enquanto o diagrama de Voronoi divide o espaço em regiões baseadas na proximidade a um conjunto de pontos geradores, a triangulação de Delaunay conecta esses pontos de forma a maximizar os menores ângulos dos triângulos resultantes. Os vértices do diagrama de Voronoi correspondem aos centros dos círculos circunscritos dos triângulos da triangulação de Delaunay.\n",
    "\n",
    "![Dualidade entre a Triangulação de Delaunay e o Diagrama de Voronoi](dual.png)\n"
   ]
  },
  {
   "cell_type": "markdown",
   "metadata": {},
   "source": []
  },
  {
   "cell_type": "markdown",
   "metadata": {},
   "source": [
    "Dada a importância da triangulação de Delaunay para a construção do diagrama de Voronoi, apresentaremos como essa pode ser construída. Retomemos a característica principal que destacamos: \n",
    "Um triângulo de Delaunay não contém outros pontos do conjunto. De forma equivalente, dada uma aresta da triangulação de Delaunay, dois semi-planos são obtidos. Um novo vértice será obtido a partir do pontos de cada semi-plano que maximizam o ângulo oposto à aresta da triângulação. Iniciaremos nossa abordagem por definir as estruturas que iremos utilizar. "
   ]
  },
  {
   "cell_type": "code",
   "execution_count": null,
   "metadata": {},
   "outputs": [],
   "source": [
    "\n",
    "mutable struct Point2D\n",
    "    x::Float64 \n",
    "    y::Float64\n",
    "end\n",
    "\n",
    "struct Edge\n",
    "    A::Point2D\n",
    "    B::Point2D \n",
    "end\n",
    "struct Triangle\n",
    "    P1::Point2D\n",
    "    P2::Point2D\n",
    "    P3::Point2D \n",
    "end"
   ]
  },
  {
   "cell_type": "markdown",
   "metadata": {},
   "source": [
    "Agora, iremos criar uma função que gera pontos aleatórios."
   ]
  },
  {
   "cell_type": "code",
   "execution_count": null,
   "metadata": {},
   "outputs": [],
   "source": [
    "function generate_points(n::Int;limit=[0,100])\n",
    "    x = rand([limit[1]:1:limit[2];],n)\n",
    "    y = rand([limit[1]:1:limit[2];],n)\n",
    "    v = Vector{Point2D}(undef,n)\n",
    "    for i=1:n\n",
    "        v[i] = Point2D(x[i],y[i])\n",
    "    end \n",
    "    return v\n",
    "end"
   ]
  },
  {
   "cell_type": "code",
   "execution_count": null,
   "metadata": {},
   "outputs": [],
   "source": [
    "P = generate_points(10)"
   ]
  },
  {
   "cell_type": "markdown",
   "metadata": {},
   "source": [
    "Para desenharmos os pontos iremos utilizar o pacote Plots.jl e o código abaixo. "
   ]
  },
  {
   "cell_type": "code",
   "execution_count": null,
   "metadata": {},
   "outputs": [],
   "source": [
    "using Plots\n",
    "\n",
    "function draw_points(v::Vector{Point2D},plt::Plots.Plot)\n",
    "    x = [v[i].x for i=1:length(v)]\n",
    "    y = [v[i].y for i=1:length(v)]\n",
    "    scatter!(plt,x,y,legend=:false)\n",
    "end\n",
    "\n"
   ]
  },
  {
   "cell_type": "code",
   "execution_count": null,
   "metadata": {},
   "outputs": [],
   "source": [
    "\n",
    "function draw_edges(w::Vector{Edge},plt)\n",
    "    for i=1:length(w)\n",
    "        plot!(plt,[w[i].A.x,w[i].B.x],[w[i].A.y,w[i].B.y],color=:red,seriestype = :line)\n",
    "    end\n",
    "end"
   ]
  },
  {
   "cell_type": "markdown",
   "metadata": {},
   "source": [
    "Precisamos ainda, criar funções auxiliares que nos permitam determinar qual lado um ponto está de um segmento e também, calcular ângulo entre pontos. "
   ]
  },
  {
   "cell_type": "code",
   "execution_count": null,
   "metadata": {},
   "outputs": [],
   "source": [
    "\n",
    "using LinearAlgebra\n",
    "\n",
    "function side(W::Edge,P::Point2D)\n",
    "    return (W.B.x-W.A.x)*(P.y-W.A.y)-(W.B.y-W.A.y)*(P.x-W.A.x)\n",
    "end\n",
    "\n",
    "function pseudo_angle(W::Edge,P::Point2D)\n",
    "    u = [W.B.x-W.A.x,W.B.y-W.A.y]\n",
    "    v = [P.x-W.A.x,P.y-W.A.y]\n",
    "    return 1-((u'*v)/(norm(u,2)*norm(v,2)))\n",
    "end \n",
    "\n",
    "function pseudo_angle(P::Point2D,R::Point2D,Q::Point2D)\n",
    "    u = [P.x-R.x,P.y-R.y]\n",
    "    v = [Q.x-R.x,Q.y-R.y]\n",
    "    return 1-((u'*v)/(norm(u,2)*norm(v,2)))\n",
    "end"
   ]
  },
  {
   "cell_type": "markdown",
   "metadata": {},
   "source": [
    "Agora, vejamos o código da triangulação."
   ]
  },
  {
   "cell_type": "code",
   "execution_count": null,
   "metadata": {},
   "outputs": [],
   "source": [
    "function delaunay(v::Vector{Point2D})\n",
    "    # inicialização\n",
    "    w = Vector{Edge}[]\n",
    "    # vamos determinar uma aresta do fecho convexo \n",
    "    n = length(v)\n",
    "    min = v[1].y \n",
    "    imin = 1 \n",
    "    for i=2:n\n",
    "        if min>v[i].y \n",
    "            imin = i\n",
    "            min = v[i].y \n",
    "        end\n",
    "    end\n",
    "    P = v[imin]\n",
    "    currentedge = Edge(P,Point2D(P.x+1,P.y))\n",
    "    imin = 1 \n",
    "    θmin = pseudo_angle(currentedge,v[imin])\n",
    "    while abs(θmin)<1.0e-8\n",
    "        imin += 1\n",
    "        θmin = pseudo_angle(currentedge,v[imin])\n",
    "    end\n",
    "    for i=2:n\n",
    "        θ = pseudo_angle(currentedge,v[i])\n",
    "        if θmin > θ && abs(θ)>1.0e-10\n",
    "            θmin = θ\n",
    "            imin = i \n",
    "        end \n",
    "    end\n",
    "    Q = v[imin] \n",
    "    currentedge = Edge(P,Q)\n",
    "    # neste ponto, determinamos a primeira aresta que é uma aresta do fecho convexo. \n",
    "    # Iremos exemplorar essa as arestas subsequentes. Para isso, vamos criar uma estrutura que armazena \n",
    "    # os triângulos e uma estrutura que armazena as arestas. O algoritmo irá parar quando não tivermos \n",
    "    # mais arestas para explorar. \n",
    "    edgeset = Edge[]\n",
    "    push!(edgeset,currentedge)\n",
    "    countedge = 1\n",
    "    triangleset = Triangle[]\n",
    "    while countedge <= length(edgeset)\n",
    "        currentedge = edgeset[countedge]\n",
    "        θleft = 0.0\n",
    "        iminleft = 0 \n",
    "        θleftmax = 0.0\n",
    "        θright = 0.0\n",
    "        θrightmax = 0.0\n",
    "        iminright = 0 \n",
    "        for i=1:n\n",
    "            valueside = side(currentedge,v[i])\n",
    "            if valueside>0.0  # ponto a esquerda\n",
    "                θleft = pseudo_angle(currentedge.A,v[i],currentedge.B)\n",
    "                if θleft>θleftmax \n",
    "                    θleftmax = θleft \n",
    "                    iminleft = i \n",
    "                end\n",
    "            elseif valueside<0.0 # ponto a direita\n",
    "                θright = pseudo_angle(currentedge.A,v[i],currentedge.B)\n",
    "                if θright>θrightmax \n",
    "                    θrightmax = θright \n",
    "                    iminright = i \n",
    "                end\n",
    "                \n",
    "            end\n",
    "        end \n",
    "        if iminleft > 0 \n",
    "            candidate_edge1 = Edge(currentedge.A,v[iminleft])\n",
    "            candidate_edge2 = Edge(v[iminleft],currentedge.A)\n",
    "            isnewpoint = false \n",
    "            if candidate_edge1 ∉ edgeset && candidate_edge2 ∉ edgeset\n",
    "                push!(edgeset,candidate_edge1)\n",
    "                isnewpoint =true \n",
    "            end\n",
    "            candidate_edge1 = Edge(currentedge.B,v[iminleft])\n",
    "            candidate_edge2 = Edge(v[iminleft],currentedge.B)\n",
    "            if candidate_edge1 ∉ edgeset && candidate_edge2 ∉ edgeset\n",
    "                push!(edgeset,candidate_edge1)\n",
    "                isnewpoint = true \n",
    "            end\n",
    "            if isnewpoint\n",
    "                push!(triangleset,Triangle(currentedge.A,currentedge.B,v[iminleft]))\n",
    "            end\n",
    "        end\n",
    "        if iminright > 0 \n",
    "            candidate_edge1 = Edge(currentedge.A,v[iminright])\n",
    "            candidate_edge2 = Edge(v[iminright],currentedge.A)\n",
    "            isnewpoint = false \n",
    "            if candidate_edge1 ∉ edgeset && candidate_edge2 ∉ edgeset\n",
    "                push!(edgeset,candidate_edge1)\n",
    "                isnewpoint = true  \n",
    "            end\n",
    "            candidate_edge1 = Edge(currentedge.B,v[iminright])\n",
    "            candidate_edge2 = Edge(v[iminright],currentedge.B)\n",
    "            if candidate_edge1 ∉ edgeset && candidate_edge2 ∉ edgeset\n",
    "                push!(edgeset,candidate_edge1)\n",
    "                isnewpoint = true \n",
    "            end\n",
    "            if isnewpoint\n",
    "                push!(triangleset,Triangle(currentedge.A,currentedge.B,v[iminright]))\n",
    "            end\n",
    "        end\n",
    "        countedge += 1\n",
    "    end\n",
    "    return edgeset, triangleset\n",
    "end"
   ]
  },
  {
   "cell_type": "code",
   "execution_count": null,
   "metadata": {},
   "outputs": [],
   "source": [
    "E = delaunay(P)"
   ]
  },
  {
   "cell_type": "code",
   "execution_count": null,
   "metadata": {},
   "outputs": [],
   "source": [
    "plt = plot()\n",
    "draw_points(P,plt)\n",
    "draw_edges(E[1],plt)\n",
    "display(plt)"
   ]
  },
  {
   "cell_type": "markdown",
   "metadata": {},
   "source": [
    "Observe que na variável E[2] temos os triângulos salvos. A partir destes triângulos, podemos construir o diagrama de Voronoi através de seus vértices. Neste caso, a ideia consiste em percorremos todos os pontos (que são vértices dos triângulos) e determinarmos os circuncentros destes triângulos. Tais circuncentros serão os vértices dos polígonos de Voronoi. Neste caso, para sabermos como cada aresta será ligada, precisamos ordená-las radialmente. Como sabemos os polígonos de Voronoi serão convexos, podemos determinar o fecho convexo. Neste caso, um algoritmo específico se faz necessário. Não iremos tratar aqui desta determinação. \n",
    "\n",
    "Contudo, é importante observar que a forma apresentada tem uma complexidade relacionada a determinação das informações que fornecer os vértices e arestas dos polígonos. Embora, complexo, essas informações são completas, podemos tratar de várias maneiras diferentes informações que demandarão uso dos polígonos, o que é positivo. O problema desta abordagem é quando temos que mudar a métrica. Neste caso, teremos de mudar o algoritmo da triangulação para utilizar outro resultado que não a maximização do ângulo. Isso aumenta o custo do algorítmos e sua complexidade. \n",
    "\n",
    "Dessa forma, considere o seguinte questionamento:\n",
    "\n",
    "Caso desejamos mudar a métrica, será que existe uma forma simples de lidarmos com os polígonos de Voronoi?\n",
    "\n",
    "A resposta á sim mas algumas limitações são, naturalmente, interpostas. Basicamente, podemos discretizar os espaço delimitado pelos pontos fornecidos e testar a distância (sob qualquer métrica) de cada ponto da discretização aos pontos dados. Ao associarmos uma cor aos pontos que são mais próximos a um dos pontos dado teremos uma região formada por pontos interiores a um certo polígono de Voronoi. Esse algoritmo é simples de programar e tem várias comodidades práticas. "
   ]
  },
  {
   "cell_type": "code",
   "execution_count": null,
   "metadata": {},
   "outputs": [],
   "source": [
    "function draw_colored_points(x::Vector{Float64},y::Vector{Float64},labels::Array{Int64,2},plt::Plots.Plot)\n",
    "\tm = length(x)\n",
    "\tn = length(y)\n",
    "\tA = zeros(Int, m,n)\n",
    "\tfor i=1:m \n",
    "\t\tfor j=1:n \n",
    "\t\t\tA[i,j] = labels[i,j]\n",
    "\t\tend\n",
    "\tend\n",
    "\treturn heatmap!(plt,x,y,A)\n",
    "end\n",
    "\n",
    "\"\"\" Exemplo de uso \n",
    "julia> v = generate_points(10)\n",
    "\n",
    "julia> voronoi(v;density=1000)\n",
    "\n",
    "\n",
    "\"\"\"\n",
    "function voronoi(P::Vector{Point2D},metric=(A::Point2D,B::Point2D)->sqrt((B.x-A.x)^2+(B.y-A.y)^2);limx=[0,100],limy=[0,100],density=1000)\n",
    "\tpx = [limx[1]:(limx[2]-limx[1])/density:limx[2];]\n",
    "\tpy = [limy[1]:(limy[2]-limy[1])/density:limy[2];]\n",
    "\tnpx = length(px)\n",
    "\tnpy = length(py)\n",
    "\tn = length(P)\n",
    "\tpoints = Point2D[]\n",
    "\tlabels = zeros(Int,npx,npy)\n",
    "\tfor i=1:npx \n",
    "\t\tfor j=1:npy \n",
    "\t\t\tminval = metric(P[1],Point2D(px[i],py[j]))\n",
    "\t\t\timin = 1\n",
    "\t\t\tfor k=2:n \n",
    "\t\t\t\tif minval>metric(P[k],Point2D(px[i],py[j]))\n",
    "\t\t\t\t\tminval = metric(P[k],Point2D(px[i],py[j]))\n",
    "\t\t\t\t\timin = k \n",
    "\t\t\t\tend\n",
    "\t\t\tend\n",
    "\t\t\tpush!(points,Point2D(px[i],py[j]))\n",
    "\t\t\tlabels[j,i] = imin\t\n",
    "\t\tend\t\n",
    "\tend\n",
    "\tplt = plot()\n",
    "\tprintln(\"Drawing ... \")\n",
    "\tdraw_colored_points(px,py,labels,plt)\n",
    "\tdraw_points(P,plt) \n",
    "\treturn plt\n",
    "end\n",
    "\n"
   ]
  },
  {
   "cell_type": "markdown",
   "metadata": {},
   "source": []
  },
  {
   "cell_type": "code",
   "execution_count": null,
   "metadata": {},
   "outputs": [],
   "source": [
    "voronoi(P)\n"
   ]
  },
  {
   "cell_type": "markdown",
   "metadata": {},
   "source": []
  },
  {
   "cell_type": "markdown",
   "metadata": {},
   "source": [
    "# Outros algoritmos para determinação do Diagrama de Voronoi\n",
    "\n",
    "Algoritmo de Fortune utiliza uma ideia baseada em varredura utilizando parábolas. \n",
    "\n",
    "![Algoritmo de Fortune](Fortunes-algorithm-slowed.gif)"
   ]
  },
  {
   "cell_type": "markdown",
   "metadata": {},
   "source": [
    "# Calculo de área\n",
    "\n",
    "Um recurso importante para compreendermos o estudo que segue está relacionado ao cálculo de área. Especificamente, gostaríamos de estimar a área de um polígono de Voronoi. Para este objetivo, devemos observar que se conhecermos a área total, a área de um poligono será um percentual da área total. No gráfico acima, a área total é dada pela área de um retângulo de 100x100 unidades de medida. Neste caso, podemos relacionar a quantidade de pontos de nossa discretização no retângulo e correspondê-la com a área do retângulo. Dessa forma, ao considerar os pontos da discretização que estão dentro de um certo poligono de voronoi, teremos  o percentual que este polinômio representa em relação à área total.  "
   ]
  },
  {
   "cell_type": "code",
   "execution_count": null,
   "metadata": {},
   "outputs": [],
   "source": [
    "\n"
   ]
  },
  {
   "cell_type": "code",
   "execution_count": null,
   "metadata": {},
   "outputs": [],
   "source": [
    "\n"
   ]
  },
  {
   "cell_type": "code",
   "execution_count": null,
   "metadata": {},
   "outputs": [],
   "source": []
  },
  {
   "cell_type": "code",
   "execution_count": null,
   "metadata": {},
   "outputs": [],
   "source": []
  },
  {
   "cell_type": "code",
   "execution_count": null,
   "metadata": {},
   "outputs": [],
   "source": []
  }
 ],
 "metadata": {
  "kernelspec": {
   "display_name": "Julia 1.10.4",
   "language": "julia",
   "name": "julia-1.10"
  },
  "language_info": {
   "file_extension": ".jl",
   "mimetype": "application/julia",
   "name": "julia",
   "version": "1.10.4"
  }
 },
 "nbformat": 4,
 "nbformat_minor": 4
}
