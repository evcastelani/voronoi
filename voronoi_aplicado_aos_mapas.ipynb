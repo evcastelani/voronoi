{
 "cells": [
  {
   "cell_type": "markdown",
   "metadata": {},
   "source": [
    "# Estimativa da área dos poligonos de Voronoi \n",
    "\n",
    "## Visão Artificial\n",
    "\n",
    "## Visão Real\n",
    "\n",
    "# Determinação da pertinência dos dados do IBGE ao poligono de Voronoi\n",
    "\n",
    "# Qual a densidade demográfica de cada poligono de Voronoi?\n"
   ]
  }
 ],
 "metadata": {
  "language_info": {
   "name": "python"
  }
 },
 "nbformat": 4,
 "nbformat_minor": 2
}
